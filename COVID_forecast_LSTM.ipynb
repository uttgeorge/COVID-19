{
 "cells": [
  {
   "cell_type": "markdown",
   "metadata": {},
   "source": [
    "# COVID-19 Prediction"
   ]
  },
  {
   "cell_type": "markdown",
   "metadata": {},
   "source": [
    "This is the prediction task for COVID-19 confirmed cases in USA, a sub-project of COVID tracking project."
   ]
  },
  {
   "cell_type": "markdown",
   "metadata": {},
   "source": [
    "## Import Libraries"
   ]
  },
  {
   "cell_type": "code",
   "execution_count": 1,
   "metadata": {},
   "outputs": [],
   "source": [
    "import requests\n",
    "import json\n",
    "from datetime import datetime, timedelta\n",
    "import datetime\n",
    "import pyodbc\n",
    "from tqdm import tqdm \n",
    "\n",
    "import torch\n",
    "import torch.nn as nn\n",
    "\n",
    "import numpy as np\n",
    "import pandas as pd\n",
    "import matplotlib.pyplot as plt\n",
    "\n",
    "from datetime import datetime\n",
    "from datetime import timedelta\n",
    "\n",
    "from sklearn.metrics import mean_squared_error\n",
    "\n",
    "from pandas.plotting import register_matplotlib_converters\n",
    "register_matplotlib_converters()"
   ]
  },
  {
   "cell_type": "markdown",
   "metadata": {},
   "source": [
    "## Config"
   ]
  },
  {
   "cell_type": "markdown",
   "metadata": {},
   "source": [
    "1. Database Config"
   ]
  },
  {
   "cell_type": "code",
   "execution_count": null,
   "metadata": {},
   "outputs": [],
   "source": [
    "##Database SERVER Config\n",
    "server = 'name.database.windows.net'\n",
    "database = 'name'\n",
    "username = 'name'\n",
    "password = 'password'\n",
    "#####################\n",
    "##Connect driver\n",
    "conn = pyodbc.connect(\n",
    "    'DRIVER={ODBC Driver 17 for SQL Server};SERVER=' + server + ';DATABASE=' + database + ';UID=' + username + ';PWD=' + password)\n",
    "cursor = conn.cursor()"
   ]
  },
  {
   "cell_type": "markdown",
   "metadata": {},
   "source": [
    "2. API config"
   ]
  },
  {
   "cell_type": "code",
   "execution_count": null,
   "metadata": {},
   "outputs": [],
   "source": [
    "url = \"https://api.covid19api.com/total/dayone/country/United States of America\""
   ]
  },
  {
   "cell_type": "markdown",
   "metadata": {},
   "source": [
    "3. LSTM Config\n",
    "\n",
    "Define the window size of 14, which means we only forecast next 14 days. "
   ]
  },
  {
   "cell_type": "code",
   "execution_count": 4,
   "metadata": {},
   "outputs": [],
   "source": [
    "# Epochs\n",
    "epochs = 500\n",
    "# Define a test size\n",
    "test_size = 14\n",
    "# Define a window size\n",
    "window_size = 14\n",
    "# Define a future size\n",
    "future = 14\n",
    "# Define target column\n",
    "target = 'deaths'\n",
    "\n",
    "MODEL_PATH = 'model.bin'"
   ]
  },
  {
   "cell_type": "markdown",
   "metadata": {},
   "source": [
    "## Extract data to database"
   ]
  },
  {
   "cell_type": "code",
   "execution_count": 5,
   "metadata": {},
   "outputs": [
    {
     "name": "stdout",
     "output_type": "stream",
     "text": [
      "1\n",
      "2\n",
      "3\n",
      "4\n",
      "5\n",
      "6\n",
      "7\n",
      "8\n",
      "9\n",
      "10\n",
      "11\n",
      "12\n",
      "13\n",
      "14\n",
      "15\n",
      "16\n",
      "17\n",
      "18\n",
      "19\n",
      "20\n",
      "21\n",
      "22\n",
      "23\n",
      "24\n",
      "25\n",
      "26\n",
      "27\n",
      "28\n",
      "29\n",
      "30\n",
      "31\n",
      "32\n",
      "33\n",
      "34\n",
      "35\n",
      "36\n",
      "37\n",
      "38\n",
      "39\n",
      "40\n",
      "41\n",
      "42\n",
      "43\n",
      "44\n",
      "45\n",
      "46\n",
      "47\n",
      "48\n",
      "49\n",
      "50\n",
      "51\n",
      "52\n",
      "53\n",
      "54\n",
      "55\n",
      "56\n",
      "57\n",
      "58\n",
      "59\n",
      "60\n",
      "61\n",
      "62\n",
      "63\n",
      "64\n",
      "65\n",
      "66\n",
      "67\n",
      "68\n",
      "69\n",
      "70\n",
      "71\n",
      "72\n",
      "73\n",
      "74\n",
      "75\n",
      "76\n",
      "77\n",
      "78\n",
      "79\n",
      "80\n",
      "81\n",
      "82\n",
      "83\n",
      "84\n",
      "85\n",
      "86\n",
      "87\n",
      "88\n",
      "89\n",
      "90\n",
      "91\n",
      "92\n",
      "93\n",
      "94\n",
      "95\n",
      "96\n",
      "97\n",
      "98\n",
      "99\n",
      "100\n",
      "101\n",
      "102\n",
      "103\n",
      "104\n",
      "105\n",
      "106\n",
      "107\n",
      "108\n",
      "109\n",
      "110\n",
      "111\n",
      "112\n",
      "113\n",
      "114\n",
      "115\n",
      "116\n",
      "117\n",
      "118\n",
      "119\n",
      "120\n",
      "121\n",
      "122\n",
      "123\n",
      "124\n",
      "125\n",
      "126\n",
      "127\n",
      "128\n",
      "129\n",
      "130\n",
      "131\n",
      "132\n",
      "133\n",
      "134\n",
      "135\n",
      "136\n",
      "137\n",
      "138\n",
      "139\n",
      "140\n",
      "141\n",
      "142\n",
      "143\n",
      "144\n",
      "145\n",
      "146\n",
      "147\n",
      "148\n",
      "149\n",
      "150\n",
      "151\n",
      "152\n",
      "153\n",
      "154\n",
      "155\n",
      "156\n",
      "157\n",
      "158\n",
      "159\n",
      "160\n",
      "161\n",
      "162\n",
      "163\n",
      "164\n",
      "165\n",
      "166\n",
      "167\n",
      "168\n",
      "169\n",
      "170\n",
      "171\n",
      "172\n",
      "173\n",
      "174\n",
      "175\n",
      "176\n",
      "177\n",
      "178\n",
      "179\n",
      "180\n",
      "181\n",
      "182\n",
      "183\n",
      "184\n",
      "185\n",
      "186\n",
      "187\n",
      "188\n",
      "189\n",
      "190\n",
      "191\n",
      "192\n",
      "193\n",
      "194\n",
      "195\n",
      "196\n",
      "197\n",
      "198\n",
      "199\n",
      "200\n"
     ]
    }
   ],
   "source": [
    "# insert into covid table\n",
    "payload = {}\n",
    "headers = {}\n",
    "response = requests.request(\"GET\", url, headers=headers, data=payload)\n",
    "data = response.text.encode('utf8')\n",
    "data = json.loads(data)\n",
    "\n",
    "tsql = r\"\"\"\n",
    "INSERT INTO dbo.covid (postdate,deaths,comfirmed)\n",
    "VALUES (?,?,?)\n",
    "\"\"\"\n",
    "\n",
    "times = 0\n",
    "for row1, row2 in zip(data[:-1],data[1:]):\n",
    "    x = row2['Date'] \n",
    "    postdate = datetime.strptime(x, '%Y-%m-%dT%H:%M:%SZ').strftime('%Y-%m-%d')\n",
    "#     print(postdate)\n",
    "    deaths = row2['Deaths'] - row1['Deaths']\n",
    "#     print(deaths)\n",
    "    comfirmed = row2['Confirmed'] - row1['Confirmed']\n",
    "#     print(comfirmed)\n",
    "    with cursor.execute(tsql,postdate,deaths,comfirmed):\n",
    "        times +=1\n",
    "        print(times)"
   ]
  },
  {
   "cell_type": "markdown",
   "metadata": {},
   "source": [
    "## Load data from database"
   ]
  },
  {
   "cell_type": "code",
   "execution_count": 6,
   "metadata": {},
   "outputs": [],
   "source": [
    "## read table\n",
    "def read_covid():\n",
    "    postdate = []\n",
    "    deaths = []\n",
    "    confirmed = []\n",
    "    tsql = \"SELECT [postdate],[deaths],[comfirmed] FROM [dbo].[covid] ORDER by postdate ASC\"\n",
    "    with cursor.execute(tsql):\n",
    "        rows = cursor.fetchall()\n",
    "    for row in rows:\n",
    "        postdate.append(row[0])\n",
    "        deaths.append(row[1])\n",
    "        confirmed.append(row[2])\n",
    "        df = pd.DataFrame(list(zip(postdate, deaths, confirmed)), columns = ['postdate', 'deaths', 'confirmed'])\n",
    "        \n",
    "    return df\n"
   ]
  },
  {
   "cell_type": "code",
   "execution_count": 7,
   "metadata": {},
   "outputs": [
    {
     "data": {
      "text/html": [
       "<div>\n",
       "<style scoped>\n",
       "    .dataframe tbody tr th:only-of-type {\n",
       "        vertical-align: middle;\n",
       "    }\n",
       "\n",
       "    .dataframe tbody tr th {\n",
       "        vertical-align: top;\n",
       "    }\n",
       "\n",
       "    .dataframe thead th {\n",
       "        text-align: right;\n",
       "    }\n",
       "</style>\n",
       "<table border=\"1\" class=\"dataframe\">\n",
       "  <thead>\n",
       "    <tr style=\"text-align: right;\">\n",
       "      <th></th>\n",
       "      <th>postdate</th>\n",
       "      <th>deaths</th>\n",
       "      <th>confirmed</th>\n",
       "    </tr>\n",
       "  </thead>\n",
       "  <tbody>\n",
       "    <tr>\n",
       "      <th>0</th>\n",
       "      <td>2020-01-23</td>\n",
       "      <td>0</td>\n",
       "      <td>0</td>\n",
       "    </tr>\n",
       "    <tr>\n",
       "      <th>1</th>\n",
       "      <td>2020-01-24</td>\n",
       "      <td>0</td>\n",
       "      <td>1</td>\n",
       "    </tr>\n",
       "    <tr>\n",
       "      <th>2</th>\n",
       "      <td>2020-01-25</td>\n",
       "      <td>0</td>\n",
       "      <td>0</td>\n",
       "    </tr>\n",
       "    <tr>\n",
       "      <th>3</th>\n",
       "      <td>2020-01-26</td>\n",
       "      <td>0</td>\n",
       "      <td>3</td>\n",
       "    </tr>\n",
       "    <tr>\n",
       "      <th>4</th>\n",
       "      <td>2020-01-27</td>\n",
       "      <td>0</td>\n",
       "      <td>0</td>\n",
       "    </tr>\n",
       "  </tbody>\n",
       "</table>\n",
       "</div>"
      ],
      "text/plain": [
       "     postdate  deaths  confirmed\n",
       "0  2020-01-23       0          0\n",
       "1  2020-01-24       0          1\n",
       "2  2020-01-25       0          0\n",
       "3  2020-01-26       0          3\n",
       "4  2020-01-27       0          0"
      ]
     },
     "execution_count": 7,
     "metadata": {},
     "output_type": "execute_result"
    }
   ],
   "source": [
    "data = read_covid()\n",
    "data.head()"
   ]
  },
  {
   "cell_type": "code",
   "execution_count": 8,
   "metadata": {},
   "outputs": [
    {
     "data": {
      "text/html": [
       "<div>\n",
       "<style scoped>\n",
       "    .dataframe tbody tr th:only-of-type {\n",
       "        vertical-align: middle;\n",
       "    }\n",
       "\n",
       "    .dataframe tbody tr th {\n",
       "        vertical-align: top;\n",
       "    }\n",
       "\n",
       "    .dataframe thead th {\n",
       "        text-align: right;\n",
       "    }\n",
       "</style>\n",
       "<table border=\"1\" class=\"dataframe\">\n",
       "  <thead>\n",
       "    <tr style=\"text-align: right;\">\n",
       "      <th></th>\n",
       "      <th>postdate</th>\n",
       "      <th>deaths</th>\n",
       "      <th>confirmed</th>\n",
       "    </tr>\n",
       "  </thead>\n",
       "  <tbody>\n",
       "    <tr>\n",
       "      <th>195</th>\n",
       "      <td>2020-08-05</td>\n",
       "      <td>1372</td>\n",
       "      <td>52810</td>\n",
       "    </tr>\n",
       "    <tr>\n",
       "      <th>196</th>\n",
       "      <td>2020-08-06</td>\n",
       "      <td>1250</td>\n",
       "      <td>59692</td>\n",
       "    </tr>\n",
       "    <tr>\n",
       "      <th>197</th>\n",
       "      <td>2020-08-07</td>\n",
       "      <td>1243</td>\n",
       "      <td>58173</td>\n",
       "    </tr>\n",
       "    <tr>\n",
       "      <th>198</th>\n",
       "      <td>2020-08-08</td>\n",
       "      <td>1076</td>\n",
       "      <td>56174</td>\n",
       "    </tr>\n",
       "    <tr>\n",
       "      <th>199</th>\n",
       "      <td>2020-08-09</td>\n",
       "      <td>515</td>\n",
       "      <td>46935</td>\n",
       "    </tr>\n",
       "  </tbody>\n",
       "</table>\n",
       "</div>"
      ],
      "text/plain": [
       "       postdate  deaths  confirmed\n",
       "195  2020-08-05    1372      52810\n",
       "196  2020-08-06    1250      59692\n",
       "197  2020-08-07    1243      58173\n",
       "198  2020-08-08    1076      56174\n",
       "199  2020-08-09     515      46935"
      ]
     },
     "execution_count": 8,
     "metadata": {},
     "output_type": "execute_result"
    }
   ],
   "source": [
    "data.tail()"
   ]
  },
  {
   "cell_type": "code",
   "execution_count": 9,
   "metadata": {},
   "outputs": [],
   "source": [
    "df = data[60:]"
   ]
  },
  {
   "cell_type": "markdown",
   "metadata": {},
   "source": [
    "## Plotting time series data\n"
   ]
  },
  {
   "cell_type": "code",
   "execution_count": 10,
   "metadata": {
    "scrolled": true
   },
   "outputs": [
    {
     "data": {
      "image/png": "[encoded data removed]",
      "text/plain": [
       "<Figure size 864x288 with 1 Axes>"
      ]
     },
     "metadata": {
      "needs_background": "light"
     },
     "output_type": "display_data"
    }
   ],
   "source": [
    "plt.figure(figsize=(12,4))\n",
    "plt.title('USA Confirmed Cases')\n",
    "plt.ylabel('Daily USA Confirmed Cases')\n",
    "plt.grid(True)\n",
    "# plt.autoscale(axis='x',tight=True)\n",
    "plt.plot(df['postdate'], df[target])\n",
    "plt.show()"
   ]
  },
  {
   "cell_type": "markdown",
   "metadata": {},
   "source": [
    "As shown in this chart, the confirmed cases are droping but also fluctuating. There are several interesting take outs:\n",
    "1. Each week is somehow a period, cases reach the peak around Thuesday, start droping on weekends and reach the lowest point around Monday. \n",
    "    \n",
    "    This is called \"weekend effect\". The reasons given include less testing and reporting of performed tests on weekends, and fewer deaths compiled by the responsible agencies. The Dutch counterpart to the U.S. Centers for Disease Control and Prevention (CDC) the RIVM, for example, admits that there’s a weekend effect, which results in incomplete data and a delay in reporting of numbers of cases and deaths. So, often early in the week, you’ll see relatively high numbers of reported tests and deaths as officials process the backlog.\n",
    "    \n",
    "2. The overall trend is promising, but also shows a little bit rebound.\n",
    "\n",
    "Though the data could not be accurate due to many issues, such as lack of testing, late report, human intervene and so on. We could find there are certern patterns that could give us some useful information, so that build a model to predict the trend."
   ]
  },
  {
   "cell_type": "markdown",
   "metadata": {},
   "source": [
    "## Data Preprocessing\n",
    "\n",
    "Because it is time-series data, we could not use the previous data to predict the later one. The test data will be the last 14 days data."
   ]
  },
  {
   "cell_type": "code",
   "execution_count": 11,
   "metadata": {},
   "outputs": [],
   "source": [
    "# Extract values from the source .csv file\n",
    "y = df[target].values.astype(float)\n",
    "\n",
    "\n",
    "# Create train and test sets\n",
    "train_set = y[:-test_size]\n",
    "test_set = y[-test_size:]"
   ]
  },
  {
   "cell_type": "code",
   "execution_count": 12,
   "metadata": {},
   "outputs": [
    {
     "data": {
      "text/plain": [
       "array([ 187.,  242.,  316.,  422.,  563.,  654.,  634.,  834., 1255.,\n",
       "       1268., 1613., 1337., 1327., 1502., 1739., 2379., 2182., 2151.,\n",
       "       2146., 2124., 1850., 1906., 2457., 2609., 2175., 2666., 2445.,\n",
       "       1276., 1834., 2504., 2431., 2469., 2154., 1697., 1330., 1467.,\n",
       "       2241., 2521., 2324., 1891., 1692., 1121., 1333., 2318., 2363.,\n",
       "       1936., 1747., 1488.,  894., 1015., 1626., 1763., 1783., 1681.,\n",
       "       1216.,  758.,  776., 1555., 1579., 1234., 1273., 1130.,  614.,\n",
       "        523.,  695., 1518., 1192., 1171.,  979.,  591.,  777., 1043.,\n",
       "       1011., 1023.,  949.,  687.,  447.,  513.,  945.,  918.,  888.,\n",
       "        832.,  763.,  308.,  391.,  843.,  752.,  710.,  672.,  613.,\n",
       "        284.,  387.,  847.,  764.,  559.,  612.,  500.,  251.,  364.,\n",
       "        735.,  687.,  724.,  653.,  271.,  299.,  351., 1224.,  850.,\n",
       "       1012.,  830.,  691.,  451.,  389.,  928.,  968.,  953.,  920.,\n",
       "        870.,  445.,  514., 1109., 1211., 1121., 1123.,  901.,  477.,\n",
       "       1125., 1368., 1436., 1216., 1246., 1111.,  406.,  539., 1378.,\n",
       "       1372., 1250., 1243., 1076.,  515.])"
      ]
     },
     "execution_count": 12,
     "metadata": {},
     "output_type": "execute_result"
    }
   ],
   "source": [
    "y"
   ]
  },
  {
   "cell_type": "code",
   "execution_count": null,
   "metadata": {},
   "outputs": [],
   "source": []
  },
  {
   "cell_type": "code",
   "execution_count": 13,
   "metadata": {},
   "outputs": [
    {
     "data": {
      "text/plain": [
       "array([1125., 1368., 1436., 1216., 1246., 1111.,  406.,  539., 1378.,\n",
       "       1372., 1250., 1243., 1076.,  515.])"
      ]
     },
     "execution_count": 13,
     "metadata": {},
     "output_type": "execute_result"
    }
   ],
   "source": [
    "test_set"
   ]
  },
  {
   "cell_type": "markdown",
   "metadata": {},
   "source": [
    "## Normalize data\n"
   ]
  },
  {
   "cell_type": "code",
   "execution_count": 14,
   "metadata": {},
   "outputs": [],
   "source": [
    "from sklearn.preprocessing import MinMaxScaler\n",
    "\n",
    "# Instantiate a scaler with a feature range from -1 to 1\n",
    "scaler = MinMaxScaler(feature_range=(-1, 1))"
   ]
  },
  {
   "cell_type": "code",
   "execution_count": 15,
   "metadata": {},
   "outputs": [],
   "source": [
    "# Normalize the training set\n",
    "train_norm = scaler.fit_transform(train_set.reshape(-1, 1))\n",
    "test_norm = scaler.transform(test_set.reshape(-1,1))\n"
   ]
  },
  {
   "cell_type": "code",
   "execution_count": 16,
   "metadata": {},
   "outputs": [
    {
     "data": {
      "text/plain": [
       "-1.0"
      ]
     },
     "execution_count": 16,
     "metadata": {},
     "output_type": "execute_result"
    }
   ],
   "source": [
    "train_norm.min()"
   ]
  },
  {
   "cell_type": "code",
   "execution_count": 17,
   "metadata": {},
   "outputs": [
    {
     "data": {
      "text/plain": [
       "1.0"
      ]
     },
     "execution_count": 17,
     "metadata": {},
     "output_type": "execute_result"
    }
   ],
   "source": [
    "train_norm.max()"
   ]
  },
  {
   "cell_type": "code",
   "execution_count": 18,
   "metadata": {},
   "outputs": [
    {
     "data": {
      "text/plain": [
       "-0.2093330003777765"
      ]
     },
     "execution_count": 18,
     "metadata": {},
     "output_type": "execute_result"
    }
   ],
   "source": [
    "train_norm.mean()"
   ]
  },
  {
   "cell_type": "code",
   "execution_count": 19,
   "metadata": {},
   "outputs": [
    {
     "data": {
      "text/plain": [
       "numpy.ndarray"
      ]
     },
     "execution_count": 19,
     "metadata": {},
     "output_type": "execute_result"
    }
   ],
   "source": [
    "type(train_norm)"
   ]
  },
  {
   "cell_type": "code",
   "execution_count": 20,
   "metadata": {},
   "outputs": [],
   "source": [
    "# train_norm = torch.FloatTensor(train_norm).view(-1)\n",
    "# test_norm = torch.FloatTensor(test_norm).view(-1)"
   ]
  },
  {
   "cell_type": "code",
   "execution_count": null,
   "metadata": {},
   "outputs": [],
   "source": []
  },
  {
   "cell_type": "markdown",
   "metadata": {},
   "source": [
    "## Dataloader for LSTM"
   ]
  },
  {
   "cell_type": "code",
   "execution_count": 21,
   "metadata": {},
   "outputs": [
    {
     "data": {
      "text/plain": [
       "112"
      ]
     },
     "execution_count": 21,
     "metadata": {},
     "output_type": "execute_result"
    }
   ],
   "source": [
    "# Convert train_norm from an array to a tensor\n",
    "train_norm = torch.FloatTensor(train_norm).view(-1)\n",
    "\n",
    "# Define function to create seq/label tuples\n",
    "def input_data(seq,ws):  # ws is the window size\n",
    "    out = []\n",
    "    L = len(seq)\n",
    "    for i in range(L-ws):\n",
    "        window = seq[i:i+ws]\n",
    "        label = seq[i+ws:i+ws+1]\n",
    "        out.append((window,label))\n",
    "    return out\n",
    "\n",
    "# Apply the input_data function to train_norm\n",
    "train_data = input_data(train_norm,window_size)\n",
    "len(train_data)  # this should equal 325-12-12"
   ]
  },
  {
   "cell_type": "code",
   "execution_count": 22,
   "metadata": {},
   "outputs": [
    {
     "data": {
      "text/plain": [
       "(tensor([-1.0000, -0.9556, -0.8959, -0.8104, -0.6967, -0.6232, -0.6394, -0.4780,\n",
       "         -0.1384, -0.1279,  0.1505, -0.0722, -0.0803,  0.0609]),\n",
       " tensor([0.2521]))"
      ]
     },
     "execution_count": 22,
     "metadata": {},
     "output_type": "execute_result"
    }
   ],
   "source": [
    "# Display the first seq/label tuple in the train data\n",
    "train_data[0]"
   ]
  },
  {
   "cell_type": "code",
   "execution_count": 23,
   "metadata": {},
   "outputs": [
    {
     "data": {
      "text/plain": [
       "(tensor([-0.7870, -0.8370, -0.4022, -0.3699, -0.3820, -0.4086, -0.4490, -0.7919,\n",
       "         -0.7362, -0.2562, -0.1739, -0.2465, -0.2449, -0.4240]),\n",
       " tensor([-0.7660]))"
      ]
     },
     "execution_count": 23,
     "metadata": {},
     "output_type": "execute_result"
    }
   ],
   "source": [
    "# Display the last seq/label tuple in the train data\n",
    "train_data[-1]"
   ]
  },
  {
   "cell_type": "code",
   "execution_count": 24,
   "metadata": {},
   "outputs": [],
   "source": [
    "test_data = input_data(test_norm,1)"
   ]
  },
  {
   "cell_type": "markdown",
   "metadata": {},
   "source": [
    "## Build the Model\n",
    "\n",
    "A LSTM pytorch model."
   ]
  },
  {
   "cell_type": "code",
   "execution_count": 25,
   "metadata": {},
   "outputs": [],
   "source": [
    "class LSTMnetwork(nn.Module):\n",
    "    def __init__(self, input_size = 1, hidden_size = 100, output_size =1):\n",
    "        super(LSTMnetwork, self).__init__()\n",
    "        self.hidden_size = hidden_size\n",
    "        \n",
    "        #add LSTM layer:\n",
    "        self.lstm = nn.LSTM(input_size, hidden_size)\n",
    "        \n",
    "        #add a fully-connected layer\n",
    "        self.linear = nn.Linear(hidden_size, output_size)\n",
    "            \n",
    "        # Initialize h0 and c0\n",
    "        self.hidden = (torch.zeros(1,1,self.hidden_size),\n",
    "                       torch.zeros(1,1,self.hidden_size))\n",
    "            \n",
    "    def forward(self, seq):\n",
    "        lstm_out, self.hidden = self.lstm(\n",
    "            seq.view(len(seq), 1, -1), self.hidden)\n",
    "        pred = self.linear(lstm_out.view(len(seq),-1))\n",
    "        return pred[-1]"
   ]
  },
  {
   "cell_type": "markdown",
   "metadata": {},
   "source": [
    "## Instantiate the model, define loss and optimization functions"
   ]
  },
  {
   "cell_type": "code",
   "execution_count": 26,
   "metadata": {},
   "outputs": [
    {
     "data": {
      "text/plain": [
       "LSTMnetwork(\n",
       "  (lstm): LSTM(1, 100)\n",
       "  (linear): Linear(in_features=100, out_features=1, bias=True)\n",
       ")"
      ]
     },
     "execution_count": 26,
     "metadata": {},
     "output_type": "execute_result"
    }
   ],
   "source": [
    "if torch.cuda.is_available():\n",
    "    device = torch.device(\"cuda\")\n",
    "else:\n",
    "    device = torch.device('cpu')\n",
    "    \n",
    "model = LSTMnetwork()\n",
    "\n",
    "loss_fn = nn.MSELoss()\n",
    "optimizer = torch.optim.Adam(model.parameters(), lr=0.001)\n",
    "\n",
    "model.to(device)\n",
    "model"
   ]
  },
  {
   "cell_type": "code",
   "execution_count": 27,
   "metadata": {
    "scrolled": true
   },
   "outputs": [
    {
     "name": "stdout",
     "output_type": "stream",
     "text": [
      "   400\n",
      " 40000\n",
      "   400\n",
      "   400\n",
      "   100\n",
      "     1\n",
      "______\n",
      " 41301\n"
     ]
    }
   ],
   "source": [
    "def count_parameters(model):\n",
    "    params = [p.numel() for p in model.parameters() if p.requires_grad]\n",
    "    for item in params:\n",
    "        print(f'{item:>6}')\n",
    "    print(f'______\\n{sum(params):>6}')\n",
    "    \n",
    "count_parameters(model)"
   ]
  },
  {
   "cell_type": "markdown",
   "metadata": {},
   "source": [
    "## Train the model"
   ]
  },
  {
   "cell_type": "code",
   "execution_count": 28,
   "metadata": {},
   "outputs": [],
   "source": [
    "def train_fn(data, model, optimizer, device):\n",
    "    model.train()\n",
    "\n",
    "#     try:\n",
    "#         with tqdm(data, total=len(data)) as tk0:\n",
    "    for bi, (seq, y_train) in enumerate(data):\n",
    "        optimizer.zero_grad()\n",
    "        model.hidden = (torch.zeros(1,1,model.hidden_size),\n",
    "               torch.zeros(1,1,model.hidden_size))\n",
    "        y_pred = model(seq)\n",
    "        loss = loss_fn(y_pred, y_train)\n",
    "\n",
    "        loss.backward()\n",
    "        optimizer.step()\n",
    "    return loss\n",
    "        "
   ]
  },
  {
   "cell_type": "markdown",
   "metadata": {},
   "source": [
    "## Evaluate the model"
   ]
  },
  {
   "cell_type": "code",
   "execution_count": 29,
   "metadata": {},
   "outputs": [],
   "source": [
    "\n",
    "\n",
    "def eval_fn(data_norm, model, device):\n",
    "    model.eval()\n",
    "    # Add the last window of training values to the list of predictions\n",
    "    preds = data_norm[-window_size:].tolist()\n",
    "    for i in range(future):\n",
    "        seq = torch.FloatTensor(preds[-window_size:])\n",
    "        with torch.no_grad():\n",
    "            model.hidden = (torch.zeros(1,1,model.hidden_size),\n",
    "                            torch.zeros(1,1,model.hidden_size))\n",
    "            preds.append(model(seq).item())\n",
    "\n",
    "    return preds"
   ]
  },
  {
   "cell_type": "markdown",
   "metadata": {},
   "source": [
    "## Run predictions and compare to known test set\n",
    "\n",
    "The early stopping strategy is that if validation loss doesn't improve for 30 iterations, the training process will stop."
   ]
  },
  {
   "cell_type": "code",
   "execution_count": 30,
   "metadata": {},
   "outputs": [
    {
     "name": "stdout",
     "output_type": "stream",
     "text": [
      "Epoch: 1, train_loss: 0.15589438, valid_loss: 0.08686217, best valid loss:        inf\n",
      "Epoch: 2, train_loss: 0.18398227, valid_loss: 0.08212634, best valid loss: 0.08686217\n",
      "Epoch: 3, train_loss: 0.17913461, valid_loss: 0.08520812, best valid loss: 0.08212634\n",
      "Epoch: 4, train_loss: 0.17197804, valid_loss: 0.08940565, best valid loss: 0.08212634\n",
      "Epoch: 5, train_loss: 0.16330040, valid_loss: 0.09495842, best valid loss: 0.08212634\n",
      "Epoch: 6, train_loss: 0.15571798, valid_loss: 0.10047926, best valid loss: 0.08212634\n",
      "Epoch: 7, train_loss: 0.14869732, valid_loss: 0.10476621, best valid loss: 0.08212634\n",
      "Epoch: 8, train_loss: 0.13961802, valid_loss: 0.10627753, best valid loss: 0.08212634\n",
      "Epoch: 9, train_loss: 0.07047405, valid_loss: 0.02979119, best valid loss: 0.08212634\n",
      "Epoch: 10, train_loss: 0.05372583, valid_loss: 0.04974413, best valid loss: 0.02979119\n",
      "Epoch: 11, train_loss: 0.03889640, valid_loss: 0.04609399, best valid loss: 0.02979119\n",
      "Epoch: 12, train_loss: 0.06855434, valid_loss: 0.04474375, best valid loss: 0.02979119\n",
      "Epoch: 13, train_loss: 0.05214823, valid_loss: 0.04317139, best valid loss: 0.02979119\n",
      "Epoch: 14, train_loss: 0.04684130, valid_loss: 0.03771289, best valid loss: 0.02979119\n",
      "Epoch: 15, train_loss: 0.04345896, valid_loss: 0.03645327, best valid loss: 0.02979119\n",
      "Epoch: 16, train_loss: 0.04172774, valid_loss: 0.03654965, best valid loss: 0.02979119\n",
      "Epoch: 17, train_loss: 0.03871492, valid_loss: 0.03741830, best valid loss: 0.02979119\n",
      "Epoch: 18, train_loss: 0.03373070, valid_loss: 0.03839344, best valid loss: 0.02979119\n",
      "Epoch: 19, train_loss: 0.02729635, valid_loss: 0.03833068, best valid loss: 0.02979119\n",
      "Epoch: 20, train_loss: 0.02326833, valid_loss: 0.03958185, best valid loss: 0.02979119\n",
      "Epoch: 21, train_loss: 0.02095185, valid_loss: 0.04213291, best valid loss: 0.02979119\n",
      "Epoch: 22, train_loss: 0.01878680, valid_loss: 0.04425639, best valid loss: 0.02979119\n",
      "Epoch: 23, train_loss: 0.01877776, valid_loss: 0.04657260, best valid loss: 0.02979119\n",
      "Epoch: 24, train_loss: 0.01976900, valid_loss: 0.04716755, best valid loss: 0.02979119\n",
      "Epoch: 25, train_loss: 0.01232194, valid_loss: 0.04884437, best valid loss: 0.02979119\n",
      "Epoch: 26, train_loss: 0.01121332, valid_loss: 0.05123347, best valid loss: 0.02979119\n",
      "Epoch: 27, train_loss: 0.01097152, valid_loss: 0.05643691, best valid loss: 0.02979119\n",
      "Epoch: 28, train_loss: 0.01090860, valid_loss: 0.05795171, best valid loss: 0.02979119\n",
      "Epoch: 29, train_loss: 0.01071088, valid_loss: 0.05894032, best valid loss: 0.02979119\n",
      "Epoch: 30, train_loss: 0.01049316, valid_loss: 0.05823136, best valid loss: 0.02979119\n",
      "Epoch: 31, train_loss: 0.00977031, valid_loss: 0.05813102, best valid loss: 0.02979119\n",
      "Epoch: 32, train_loss: 0.00874788, valid_loss: 0.05849987, best valid loss: 0.02979119\n",
      "Epoch: 33, train_loss: 0.00789707, valid_loss: 0.06078166, best valid loss: 0.02979119\n",
      "Epoch: 34, train_loss: 0.00761685, valid_loss: 0.06354851, best valid loss: 0.02979119\n",
      "Epoch: 35, train_loss: 0.00765917, valid_loss: 0.06667508, best valid loss: 0.02979119\n",
      "Epoch: 36, train_loss: 0.00677894, valid_loss: 0.06628074, best valid loss: 0.02979119\n",
      "Epoch: 37, train_loss: 0.00790992, valid_loss: 0.05258328, best valid loss: 0.02979119\n",
      "Epoch: 38, train_loss: 0.00381900, valid_loss: 0.05945799, best valid loss: 0.02979119\n",
      "\n",
      "Duration: 20 seconds\n"
     ]
    }
   ],
   "source": [
    "import time\n",
    "start_time = time.time()\n",
    "\n",
    "best_loss = np.inf\n",
    "\n",
    "early_stop = 0 \n",
    "\n",
    "train_losses = []\n",
    "vali_losses = []\n",
    "\n",
    "for epoch in range(epochs):\n",
    "    early_stop += 1\n",
    "    if early_stop == 30:\n",
    "        break\n",
    "    train_loss = train_fn(train_data, model, optimizer, device)\n",
    "    train_losses.append(train_loss)\n",
    "    preds = eval_fn(train_norm, model, device)\n",
    "    \n",
    "    predictions = torch.tensor(preds[window_size:])\n",
    "    real = torch.tensor(test_norm.reshape(1,-1).tolist()[0])\n",
    "#     valid_loss = mean_squared_error(preds[window_size:], test_norm.reshape(1,-1).tolist()[0])\n",
    "    valid_loss = loss_fn(predictions,real)\n",
    "    vali_losses.append(valid_loss)\n",
    "    print(f\"Epoch: {epoch+1}, train_loss: {train_loss.item():10.8f}, valid_loss: {valid_loss.item():10.8f}, best valid loss: {best_loss:10.8f}\")\n",
    "    if valid_loss < best_loss:\n",
    "        early_stop = 0\n",
    "        best_loss = valid_loss\n",
    "        torch.save(model.state_dict(), MODEL_PATH)\n",
    "\n",
    "print(f'\\nDuration: {time.time() - start_time:.0f} seconds')\n",
    "\n",
    "\n"
   ]
  },
  {
   "cell_type": "markdown",
   "metadata": {},
   "source": [
    "## Plot the losses\n",
    "\n",
    "As we can see, the training loss and validation loss find a relatively low point around 9th iteration."
   ]
  },
  {
   "cell_type": "code",
   "execution_count": 31,
   "metadata": {
    "scrolled": true
   },
   "outputs": [
    {
     "data": {
      "text/plain": [
       "[<matplotlib.lines.Line2D at 0x7f9e8d155110>]"
      ]
     },
     "execution_count": 31,
     "metadata": {},
     "output_type": "execute_result"
    },
    {
     "data": {
      "image/png": "[encoded data removed]",
      "text/plain": [
       "<Figure size 432x288 with 1 Axes>"
      ]
     },
     "metadata": {
      "needs_background": "light"
     },
     "output_type": "display_data"
    }
   ],
   "source": [
    "plt.plot(train_losses)\n",
    "plt.plot(vali_losses)"
   ]
  },
  {
   "cell_type": "markdown",
   "metadata": {},
   "source": [
    "## Plot the data"
   ]
  },
  {
   "cell_type": "code",
   "execution_count": 32,
   "metadata": {},
   "outputs": [
    {
     "data": {
      "text/plain": [
       "array([[ 513.71652728],\n",
       "       [1067.53520386],\n",
       "       [1124.08960924],\n",
       "       [1032.51917017],\n",
       "       [ 979.79429543],\n",
       "       [ 814.17257154],\n",
       "       [ 530.16774675],\n",
       "       [ 526.52908498],\n",
       "       [ 959.71335366],\n",
       "       [1050.19110817],\n",
       "       [ 991.85782118],\n",
       "       [ 951.12916756],\n",
       "       [ 795.25723386],\n",
       "       [ 531.50593442]])"
      ]
     },
     "execution_count": 32,
     "metadata": {},
     "output_type": "execute_result"
    }
   ],
   "source": [
    "true_predictions = scaler.inverse_transform(np.array(preds[window_size:]).reshape(-1, 1))\n",
    "true_predictions"
   ]
  },
  {
   "cell_type": "code",
   "execution_count": 33,
   "metadata": {
    "scrolled": true
   },
   "outputs": [
    {
     "data": {
      "text/plain": [
       "186    1125\n",
       "187    1368\n",
       "188    1436\n",
       "189    1216\n",
       "190    1246\n",
       "191    1111\n",
       "192     406\n",
       "193     539\n",
       "194    1378\n",
       "195    1372\n",
       "196    1250\n",
       "197    1243\n",
       "198    1076\n",
       "199     515\n",
       "Name: deaths, dtype: int64"
      ]
     },
     "execution_count": 33,
     "metadata": {},
     "output_type": "execute_result"
    }
   ],
   "source": [
    "df[target][-window_size:]"
   ]
  },
  {
   "cell_type": "code",
   "execution_count": 34,
   "metadata": {},
   "outputs": [],
   "source": [
    "x = df['postdate'][-future:]"
   ]
  },
  {
   "cell_type": "code",
   "execution_count": 35,
   "metadata": {},
   "outputs": [
    {
     "data": {
      "text/plain": [
       "pandas.core.series.Series"
      ]
     },
     "execution_count": 35,
     "metadata": {},
     "output_type": "execute_result"
    }
   ],
   "source": [
    "type(x)"
   ]
  },
  {
   "cell_type": "code",
   "execution_count": 36,
   "metadata": {},
   "outputs": [
    {
     "data": {
      "image/png": "[encoded data removed]",
      "text/plain": [
       "<Figure size 864x288 with 1 Axes>"
      ]
     },
     "metadata": {
      "needs_background": "light"
     },
     "output_type": "display_data"
    }
   ],
   "source": [
    "plt.figure(figsize=(12,4))\n",
    "plt.title('COVID-19 Confirmed Predication')\n",
    "plt.ylabel('Confirmed Cases')\n",
    "plt.grid(True)\n",
    "plt.autoscale(axis='x',tight=True)\n",
    "plt.plot(df['postdate'][-20:], df[target][-20:])\n",
    "plt.plot(x,true_predictions)\n",
    "plt.show()"
   ]
  },
  {
   "cell_type": "markdown",
   "metadata": {},
   "source": [
    "## Forecast into an unknown future"
   ]
  },
  {
   "cell_type": "code",
   "execution_count": 37,
   "metadata": {},
   "outputs": [],
   "source": [
    "L = len(y)\n",
    "\n",
    "y_norm = scaler.transform(y.reshape(-1,1))\n",
    "y_norm = torch.FloatTensor(y_norm).view(-1)\n",
    "preds = y_norm[-window_size:].tolist()\n"
   ]
  },
  {
   "cell_type": "code",
   "execution_count": 38,
   "metadata": {},
   "outputs": [
    {
     "data": {
      "text/plain": [
       "[-0.2432432472705841,\n",
       " -0.04719645157456398,\n",
       " 0.007664380595088005,\n",
       " -0.16982653737068176,\n",
       " -0.14562323689460754,\n",
       " -0.2545381188392639,\n",
       " -0.8233158588409424,\n",
       " -0.7160145044326782,\n",
       " -0.039128679782152176,\n",
       " -0.04396934062242508,\n",
       " -0.14239612221717834,\n",
       " -0.14804357290267944,\n",
       " -0.28277531266212463,\n",
       " -0.7353771924972534]"
      ]
     },
     "execution_count": 38,
     "metadata": {},
     "output_type": "execute_result"
    }
   ],
   "source": [
    "preds"
   ]
  },
  {
   "cell_type": "code",
   "execution_count": 39,
   "metadata": {},
   "outputs": [],
   "source": [
    "\n",
    "model = LSTMnetwork()\n",
    "model.load_state_dict({k.replace('module.',''):v for k,v in torch.load(MODEL_PATH, map_location=device).items()}) \n",
    "model.to(device)\n",
    "model.eval()\n",
    "\n",
    "for i in range(future):  \n",
    "    seq = torch.FloatTensor(preds[-window_size:])\n",
    "    with torch.no_grad():\n",
    "        # Reset the hidden parameters here!\n",
    "        model.hidden = (torch.zeros(1,1,model.hidden_size),\n",
    "                        torch.zeros(1,1,model.hidden_size))  \n",
    "        preds.append(model(seq).item())\n",
    "\n",
    "# Inverse-normalize the prediction set\n",
    "true_predictions = scaler.inverse_transform(np.array(preds).reshape(-1, 1))\n"
   ]
  },
  {
   "cell_type": "code",
   "execution_count": 40,
   "metadata": {
    "scrolled": true
   },
   "outputs": [
    {
     "data": {
      "text/plain": [
       "array([[1124.99999501],\n",
       "       [1367.99999827],\n",
       "       [1435.99999975],\n",
       "       [1216.00000693],\n",
       "       [1245.99999787],\n",
       "       [1111.0000017 ],\n",
       "       [ 405.99999297],\n",
       "       [ 539.00002176],\n",
       "       [1378.00000141],\n",
       "       [1372.0000023 ],\n",
       "       [1250.00000651],\n",
       "       [1242.99999139],\n",
       "       [1075.99999996],\n",
       "       [ 514.9999699 ],\n",
       "       [ 770.17291975],\n",
       "       [1171.44285698],\n",
       "       [1501.75764755],\n",
       "       [1529.96108572],\n",
       "       [1329.88286723],\n",
       "       [ 995.49685235],\n",
       "       [ 712.24549231],\n",
       "       [ 772.65565571],\n",
       "       [1258.24489892],\n",
       "       [1602.23771856],\n",
       "       [1616.42693691],\n",
       "       [1373.78990126],\n",
       "       [1004.09411521],\n",
       "       [ 705.01286614]])"
      ]
     },
     "execution_count": 40,
     "metadata": {},
     "output_type": "execute_result"
    }
   ],
   "source": [
    "true_predictions"
   ]
  },
  {
   "cell_type": "code",
   "execution_count": 41,
   "metadata": {},
   "outputs": [],
   "source": [
    "recent = df['postdate'][-1:].item()\n",
    "recent = datetime.strptime(recent, '%Y-%m-%d')"
   ]
  },
  {
   "cell_type": "code",
   "execution_count": 42,
   "metadata": {},
   "outputs": [
    {
     "data": {
      "text/plain": [
       "datetime.datetime(2020, 8, 9, 0, 0)"
      ]
     },
     "execution_count": 42,
     "metadata": {},
     "output_type": "execute_result"
    }
   ],
   "source": [
    "recent"
   ]
  },
  {
   "cell_type": "code",
   "execution_count": 43,
   "metadata": {},
   "outputs": [],
   "source": [
    "x_date = []\n",
    "new_date = recent\n",
    "for i in range(future):\n",
    "    new_date = new_date + timedelta(days=1)\n",
    "    x_date.append(new_date.strftime('%Y-%m-%d'))\n",
    "x_date = np.array(x_date)"
   ]
  },
  {
   "cell_type": "code",
   "execution_count": 44,
   "metadata": {},
   "outputs": [
    {
     "data": {
      "text/plain": [
       "array(['2020-08-10', '2020-08-11', '2020-08-12', '2020-08-13',\n",
       "       '2020-08-14', '2020-08-15', '2020-08-16', '2020-08-17',\n",
       "       '2020-08-18', '2020-08-19', '2020-08-20', '2020-08-21',\n",
       "       '2020-08-22', '2020-08-23'], dtype='<U10')"
      ]
     },
     "execution_count": 44,
     "metadata": {},
     "output_type": "execute_result"
    }
   ],
   "source": [
    "x_date"
   ]
  },
  {
   "cell_type": "code",
   "execution_count": 45,
   "metadata": {
    "scrolled": true
   },
   "outputs": [
    {
     "data": {
      "image/png": "[encoded data removed]",
      "text/plain": [
       "<Figure size 864x288 with 1 Axes>"
      ]
     },
     "metadata": {
      "needs_background": "light"
     },
     "output_type": "display_data"
    }
   ],
   "source": [
    "plt.figure(figsize=(12,4))\n",
    "plt.title('COVID-19 Confirmed Predication')\n",
    "plt.ylabel('Confirmed Cases')\n",
    "plt.grid(True)\n",
    "plt.autoscale(axis='x',tight=True)\n",
    "plt.plot(df['postdate'],df[target])\n",
    "plt.plot(x_date,true_predictions[window_size:])\n",
    "plt.show()"
   ]
  },
  {
   "cell_type": "code",
   "execution_count": 46,
   "metadata": {},
   "outputs": [
    {
     "data": {
      "text/plain": [
       "array([ 770.17291975, 1171.44285698, 1501.75764755, 1529.96108572,\n",
       "       1329.88286723,  995.49685235,  712.24549231,  772.65565571,\n",
       "       1258.24489892, 1602.23771856, 1616.42693691, 1373.78990126,\n",
       "       1004.09411521,  705.01286614])"
      ]
     },
     "execution_count": 46,
     "metadata": {},
     "output_type": "execute_result"
    }
   ],
   "source": [
    "predictions = true_predictions[window_size:].reshape(1,-1)[0]\n",
    "predictions"
   ]
  },
  {
   "cell_type": "code",
   "execution_count": 47,
   "metadata": {},
   "outputs": [
    {
     "data": {
      "text/plain": [
       "array(['2020-08-10', '2020-08-11', '2020-08-12', '2020-08-13',\n",
       "       '2020-08-14', '2020-08-15', '2020-08-16', '2020-08-17',\n",
       "       '2020-08-18', '2020-08-19', '2020-08-20', '2020-08-21',\n",
       "       '2020-08-22', '2020-08-23'], dtype='<U10')"
      ]
     },
     "execution_count": 47,
     "metadata": {},
     "output_type": "execute_result"
    }
   ],
   "source": [
    "x_date"
   ]
  },
  {
   "cell_type": "markdown",
   "metadata": {},
   "source": [
    "## Update predictions to database"
   ]
  },
  {
   "cell_type": "code",
   "execution_count": 48,
   "metadata": {},
   "outputs": [
    {
     "name": "stdout",
     "output_type": "stream",
     "text": [
      "2020-08-10\n",
      "770\n",
      "1\n",
      "2020-08-11\n",
      "1171\n",
      "2\n",
      "2020-08-12\n",
      "1501\n",
      "3\n",
      "2020-08-13\n",
      "1529\n",
      "4\n",
      "2020-08-14\n",
      "1329\n",
      "5\n",
      "2020-08-15\n",
      "995\n",
      "6\n",
      "2020-08-16\n",
      "712\n",
      "7\n",
      "2020-08-17\n",
      "772\n",
      "8\n",
      "2020-08-18\n",
      "1258\n",
      "9\n",
      "2020-08-19\n",
      "1602\n",
      "10\n",
      "2020-08-20\n",
      "1616\n",
      "11\n",
      "2020-08-21\n",
      "1373\n",
      "12\n",
      "2020-08-22\n",
      "1004\n",
      "13\n",
      "2020-08-23\n",
      "705\n",
      "14\n"
     ]
    }
   ],
   "source": [
    "tsql0 = r\"\"\"\n",
    "IF OBJECT_ID('dbo.pre_covid', 'U') IS NOT NULL\n",
    "DROP TABLE dbo.pre_covid\n",
    "-- Create the table in the specified schema\n",
    "CREATE TABLE [dbo].[pre_covid](\n",
    "    [postdate] [nvarchar](300) NOT NULL,\n",
    "    [deaths] [int] NOT NULL\n",
    ") ON [PRIMARY]\n",
    "\"\"\"\n",
    "\n",
    "tsql = r\"\"\"\n",
    "INSERT INTO dbo.pre_covid (postdate,deaths)\n",
    "VALUES (?,?)\n",
    "\"\"\"\n",
    "cursor.execute(tsql0)\n",
    "\n",
    "times = 0\n",
    "for date, pred in zip(x_date, predictions): \n",
    "    print(str(date))\n",
    "    print(int(pred))\n",
    "    with cursor.execute(tsql,date,int(pred)):\n",
    "        times +=1\n",
    "        print(times)"
   ]
  },
  {
   "cell_type": "code",
   "execution_count": 49,
   "metadata": {},
   "outputs": [],
   "source": [
    "## read table\n",
    "def read_pre_covid():\n",
    "    postdate = []\n",
    "    pre_deaths = []\n",
    "    tsql = \"SELECT [postdate],[deaths] FROM [dbo].[pre_covid] ORDER by postdate ASC\"\n",
    "    with cursor.execute(tsql):\n",
    "        rows = cursor.fetchall()\n",
    "    for row in rows:\n",
    "        postdate.append(row[0])\n",
    "        pre_deaths.append(row[1])\n",
    "#         df = pd.DataFrame(list(zip(postdate, deaths, confirmed)), columns = ['postdate', 'deaths', 'confirmed'])\n",
    "        \n",
    "    return postdate, pre_deaths\n"
   ]
  },
  {
   "cell_type": "code",
   "execution_count": 50,
   "metadata": {},
   "outputs": [
    {
     "data": {
      "text/plain": [
       "(['2020-08-10',\n",
       "  '2020-08-11',\n",
       "  '2020-08-12',\n",
       "  '2020-08-13',\n",
       "  '2020-08-14',\n",
       "  '2020-08-15',\n",
       "  '2020-08-16',\n",
       "  '2020-08-17',\n",
       "  '2020-08-18',\n",
       "  '2020-08-19',\n",
       "  '2020-08-20',\n",
       "  '2020-08-21',\n",
       "  '2020-08-22',\n",
       "  '2020-08-23'],\n",
       " [770,\n",
       "  1171,\n",
       "  1501,\n",
       "  1529,\n",
       "  1329,\n",
       "  995,\n",
       "  712,\n",
       "  772,\n",
       "  1258,\n",
       "  1602,\n",
       "  1616,\n",
       "  1373,\n",
       "  1004,\n",
       "  705])"
      ]
     },
     "execution_count": 50,
     "metadata": {},
     "output_type": "execute_result"
    }
   ],
   "source": [
    "read_pre_covid()"
   ]
  }
 ],
 "metadata": {
  "kernelspec": {
   "display_name": "Python 3",
   "language": "python",
   "name": "python3"
  },
  "language_info": {
   "codemirror_mode": {
    "name": "ipython",
    "version": 3
   },
   "file_extension": ".py",
   "mimetype": "text/x-python",
   "name": "python",
   "nbconvert_exporter": "python",
   "pygments_lexer": "ipython3",
   "version": "3.7.7"
  }
 },
 "nbformat": 4,
 "nbformat_minor": 4
}
